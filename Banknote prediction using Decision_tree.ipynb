{
  "cells": [
    {
      "cell_type": "markdown",
      "metadata": {
        "id": "view-in-github",
        "colab_type": "text"
      },
      "source": [
        "<a href=\"https://colab.research.google.com/github/Yuzerzef/Banknote-prediction-using-Decision_tree/blob/main/Banknote%20prediction%20using%20Decision_tree.ipynb\" target=\"_parent\"><img src=\"https://colab.research.google.com/assets/colab-badge.svg\" alt=\"Open In Colab\"/></a>"
      ]
    },
    {
      "cell_type": "code",
      "execution_count": null,
      "metadata": {
        "id": "hw0NBIqxzSgZ"
      },
      "outputs": [],
      "source": [
        "import pandas as pd\n",
        "import numpy as np\n",
        "import seaborn as sns\n",
        "import matplotlib.pyplot as plt\n",
        "from sklearn.model_selection import train_test_split\n",
        "from sklearn.tree import DecisionTreeClassifier\n",
        "from sklearn.metrics import classification_report\n",
        "from sklearn.metrics import accuracy_score"
      ]
    },
    {
      "cell_type": "markdown",
      "metadata": {
        "id": "KGQsSeRPGQSI"
      },
      "source": [
        "|Attribute Information      |    Attribute name| data ype|\n",
        "|---|---|---|\n",
        "|variance of Wavelet Transformed image | variance_wti|  float64|\n",
        "|skewness of Wavelet Transformed image | skewness_wti| float64|\n",
        "|curtosis of Wavelet Transformed image| curtosis_wti| float64|\n",
        "| entropy of image            |         entropy_image|  float64|\n",
        "|class                        |        class|  int64|"
      ]
    },
    {
      "cell_type": "code",
      "execution_count": null,
      "metadata": {
        "colab": {
          "base_uri": "https://localhost:8080/",
          "height": 206
        },
        "id": "gICdgMvfzumx",
        "outputId": "0a57db67-dca2-4bdf-c91e-76efa2e77c79"
      },
      "outputs": [
        {
          "data": {
            "text/html": [
              "<div>\n",
              "<style scoped>\n",
              "    .dataframe tbody tr th:only-of-type {\n",
              "        vertical-align: middle;\n",
              "    }\n",
              "\n",
              "    .dataframe tbody tr th {\n",
              "        vertical-align: top;\n",
              "    }\n",
              "\n",
              "    .dataframe thead th {\n",
              "        text-align: right;\n",
              "    }\n",
              "</style>\n",
              "<table border=\"1\" class=\"dataframe\">\n",
              "  <thead>\n",
              "    <tr style=\"text-align: right;\">\n",
              "      <th></th>\n",
              "      <th>3.6216</th>\n",
              "      <th>8.6661</th>\n",
              "      <th>-2.8073</th>\n",
              "      <th>-0.44699</th>\n",
              "      <th>0</th>\n",
              "    </tr>\n",
              "  </thead>\n",
              "  <tbody>\n",
              "    <tr>\n",
              "      <th>0</th>\n",
              "      <td>4.54590</td>\n",
              "      <td>8.1674</td>\n",
              "      <td>-2.4586</td>\n",
              "      <td>-1.46210</td>\n",
              "      <td>0</td>\n",
              "    </tr>\n",
              "    <tr>\n",
              "      <th>1</th>\n",
              "      <td>3.86600</td>\n",
              "      <td>-2.6383</td>\n",
              "      <td>1.9242</td>\n",
              "      <td>0.10645</td>\n",
              "      <td>0</td>\n",
              "    </tr>\n",
              "    <tr>\n",
              "      <th>2</th>\n",
              "      <td>3.45660</td>\n",
              "      <td>9.5228</td>\n",
              "      <td>-4.0112</td>\n",
              "      <td>-3.59440</td>\n",
              "      <td>0</td>\n",
              "    </tr>\n",
              "    <tr>\n",
              "      <th>3</th>\n",
              "      <td>0.32924</td>\n",
              "      <td>-4.4552</td>\n",
              "      <td>4.5718</td>\n",
              "      <td>-0.98880</td>\n",
              "      <td>0</td>\n",
              "    </tr>\n",
              "    <tr>\n",
              "      <th>4</th>\n",
              "      <td>4.36840</td>\n",
              "      <td>9.6718</td>\n",
              "      <td>-3.9606</td>\n",
              "      <td>-3.16250</td>\n",
              "      <td>0</td>\n",
              "    </tr>\n",
              "  </tbody>\n",
              "</table>\n",
              "</div>"
            ],
            "text/plain": [
              "    3.6216  8.6661  -2.8073  -0.44699  0\n",
              "0  4.54590  8.1674  -2.4586  -1.46210  0\n",
              "1  3.86600 -2.6383   1.9242   0.10645  0\n",
              "2  3.45660  9.5228  -4.0112  -3.59440  0\n",
              "3  0.32924 -4.4552   4.5718  -0.98880  0\n",
              "4  4.36840  9.6718  -3.9606  -3.16250  0"
            ]
          },
          "execution_count": 2,
          "metadata": {},
          "output_type": "execute_result"
        }
      ],
      "source": [
        "df=pd.read_csv(\"/content/banknote.csv\" )\n",
        "df.head()"
      ]
    },
    {
      "cell_type": "code",
      "execution_count": null,
      "metadata": {
        "colab": {
          "base_uri": "https://localhost:8080/",
          "height": 206
        },
        "id": "KXTpsjKiFoU_",
        "outputId": "f196e6eb-fe4f-4f24-945e-68eed86a6d92"
      },
      "outputs": [
        {
          "data": {
            "text/html": [
              "<div>\n",
              "<style scoped>\n",
              "    .dataframe tbody tr th:only-of-type {\n",
              "        vertical-align: middle;\n",
              "    }\n",
              "\n",
              "    .dataframe tbody tr th {\n",
              "        vertical-align: top;\n",
              "    }\n",
              "\n",
              "    .dataframe thead th {\n",
              "        text-align: right;\n",
              "    }\n",
              "</style>\n",
              "<table border=\"1\" class=\"dataframe\">\n",
              "  <thead>\n",
              "    <tr style=\"text-align: right;\">\n",
              "      <th></th>\n",
              "      <th>variance_wti</th>\n",
              "      <th>skewness_wti</th>\n",
              "      <th>curtosis_wti</th>\n",
              "      <th>entropy_image</th>\n",
              "      <th>class</th>\n",
              "    </tr>\n",
              "  </thead>\n",
              "  <tbody>\n",
              "    <tr>\n",
              "      <th>0</th>\n",
              "      <td>4.54590</td>\n",
              "      <td>8.1674</td>\n",
              "      <td>-2.4586</td>\n",
              "      <td>-1.46210</td>\n",
              "      <td>0</td>\n",
              "    </tr>\n",
              "    <tr>\n",
              "      <th>1</th>\n",
              "      <td>3.86600</td>\n",
              "      <td>-2.6383</td>\n",
              "      <td>1.9242</td>\n",
              "      <td>0.10645</td>\n",
              "      <td>0</td>\n",
              "    </tr>\n",
              "    <tr>\n",
              "      <th>2</th>\n",
              "      <td>3.45660</td>\n",
              "      <td>9.5228</td>\n",
              "      <td>-4.0112</td>\n",
              "      <td>-3.59440</td>\n",
              "      <td>0</td>\n",
              "    </tr>\n",
              "    <tr>\n",
              "      <th>3</th>\n",
              "      <td>0.32924</td>\n",
              "      <td>-4.4552</td>\n",
              "      <td>4.5718</td>\n",
              "      <td>-0.98880</td>\n",
              "      <td>0</td>\n",
              "    </tr>\n",
              "    <tr>\n",
              "      <th>4</th>\n",
              "      <td>4.36840</td>\n",
              "      <td>9.6718</td>\n",
              "      <td>-3.9606</td>\n",
              "      <td>-3.16250</td>\n",
              "      <td>0</td>\n",
              "    </tr>\n",
              "  </tbody>\n",
              "</table>\n",
              "</div>"
            ],
            "text/plain": [
              "   variance_wti  skewness_wti  curtosis_wti  entropy_image  class\n",
              "0       4.54590        8.1674       -2.4586       -1.46210      0\n",
              "1       3.86600       -2.6383        1.9242        0.10645      0\n",
              "2       3.45660        9.5228       -4.0112       -3.59440      0\n",
              "3       0.32924       -4.4552        4.5718       -0.98880      0\n",
              "4       4.36840        9.6718       -3.9606       -3.16250      0"
            ]
          },
          "execution_count": 3,
          "metadata": {},
          "output_type": "execute_result"
        }
      ],
      "source": [
        "df.columns =(['variance_wti', 'skewness_wti', 'curtosis_wti', 'entropy_image', 'class'])\n",
        "df.head()\n"
      ]
    },
    {
      "cell_type": "markdown",
      "metadata": {
        "id": "mL4ZpRUvRsKQ"
      },
      "source": [
        "\n",
        "#The data type of the attributes\n",
        "1. variance_wti is      float64\n",
        "2. skewness_wti  is    float64\n",
        "3.  curtosis_wti  is    float64\n",
        "4.  entropy_image  is   float64\n",
        "5. class           is    int64 \n",
        "\n",
        "No null or missing value is observed. "
      ]
    },
    {
      "cell_type": "code",
      "execution_count": null,
      "metadata": {
        "colab": {
          "base_uri": "https://localhost:8080/"
        },
        "id": "5sdaaPjXJdFm",
        "outputId": "65e39663-8c0b-402d-a247-da775d7cb7b1"
      },
      "outputs": [
        {
          "name": "stdout",
          "output_type": "stream",
          "text": [
            "<class 'pandas.core.frame.DataFrame'>\n",
            "RangeIndex: 1371 entries, 0 to 1370\n",
            "Data columns (total 5 columns):\n",
            " #   Column         Non-Null Count  Dtype  \n",
            "---  ------         --------------  -----  \n",
            " 0   variance_wti   1371 non-null   float64\n",
            " 1   skewness_wti   1371 non-null   float64\n",
            " 2   curtosis_wti   1371 non-null   float64\n",
            " 3   entropy_image  1371 non-null   float64\n",
            " 4   class          1371 non-null   int64  \n",
            "dtypes: float64(4), int64(1)\n",
            "memory usage: 53.7 KB\n"
          ]
        }
      ],
      "source": [
        "df.info()"
      ]
    },
    {
      "cell_type": "code",
      "execution_count": null,
      "metadata": {
        "colab": {
          "base_uri": "https://localhost:8080/"
        },
        "id": "7qDnLWwpOe94",
        "outputId": "e733b30e-9433-4c74-de17-e7ec4d1027a4"
      },
      "outputs": [
        {
          "data": {
            "text/plain": [
              "variance_wti     float64\n",
              "skewness_wti     float64\n",
              "curtosis_wti     float64\n",
              "entropy_image    float64\n",
              "class              int64\n",
              "dtype: object"
            ]
          },
          "execution_count": 75,
          "metadata": {},
          "output_type": "execute_result"
        }
      ],
      "source": [
        "df.dtypes"
      ]
    },
    {
      "cell_type": "code",
      "execution_count": null,
      "metadata": {
        "colab": {
          "base_uri": "https://localhost:8080/"
        },
        "id": "ztXh0jUbJoqQ",
        "outputId": "ef5a79e2-54a9-4f59-d76c-f822cd65a317"
      },
      "outputs": [
        {
          "data": {
            "text/plain": [
              "variance_wti     0\n",
              "skewness_wti     0\n",
              "curtosis_wti     0\n",
              "entropy_image    0\n",
              "class            0\n",
              "dtype: int64"
            ]
          },
          "execution_count": 6,
          "metadata": {},
          "output_type": "execute_result"
        }
      ],
      "source": [
        "df.isnull().sum()"
      ]
    },
    {
      "cell_type": "code",
      "execution_count": null,
      "metadata": {
        "colab": {
          "base_uri": "https://localhost:8080/"
        },
        "id": "eAA3cFpZOF9h",
        "outputId": "faba0c2e-78c6-4e40-84f9-b8a5690537fa"
      },
      "outputs": [
        {
          "data": {
            "text/plain": [
              "(1371, 5)"
            ]
          },
          "execution_count": 7,
          "metadata": {},
          "output_type": "execute_result"
        }
      ],
      "source": [
        "df.shape"
      ]
    },
    {
      "cell_type": "code",
      "execution_count": null,
      "metadata": {
        "colab": {
          "base_uri": "https://localhost:8080/",
          "height": 300
        },
        "id": "aJIkOFMuOVgt",
        "outputId": "dec95832-11e2-4c58-d7d8-f6dbb06808ae"
      },
      "outputs": [
        {
          "data": {
            "text/html": [
              "<div>\n",
              "<style scoped>\n",
              "    .dataframe tbody tr th:only-of-type {\n",
              "        vertical-align: middle;\n",
              "    }\n",
              "\n",
              "    .dataframe tbody tr th {\n",
              "        vertical-align: top;\n",
              "    }\n",
              "\n",
              "    .dataframe thead th {\n",
              "        text-align: right;\n",
              "    }\n",
              "</style>\n",
              "<table border=\"1\" class=\"dataframe\">\n",
              "  <thead>\n",
              "    <tr style=\"text-align: right;\">\n",
              "      <th></th>\n",
              "      <th>variance_wti</th>\n",
              "      <th>skewness_wti</th>\n",
              "      <th>curtosis_wti</th>\n",
              "      <th>entropy_image</th>\n",
              "      <th>class</th>\n",
              "    </tr>\n",
              "  </thead>\n",
              "  <tbody>\n",
              "    <tr>\n",
              "      <th>count</th>\n",
              "      <td>1371.000000</td>\n",
              "      <td>1371.000000</td>\n",
              "      <td>1371.000000</td>\n",
              "      <td>1371.000000</td>\n",
              "      <td>1371.000000</td>\n",
              "    </tr>\n",
              "    <tr>\n",
              "      <th>mean</th>\n",
              "      <td>0.431410</td>\n",
              "      <td>1.917434</td>\n",
              "      <td>1.400694</td>\n",
              "      <td>-1.192200</td>\n",
              "      <td>0.444931</td>\n",
              "    </tr>\n",
              "    <tr>\n",
              "      <th>std</th>\n",
              "      <td>2.842494</td>\n",
              "      <td>5.868359</td>\n",
              "      <td>4.310105</td>\n",
              "      <td>2.101683</td>\n",
              "      <td>0.497139</td>\n",
              "    </tr>\n",
              "    <tr>\n",
              "      <th>min</th>\n",
              "      <td>-7.042100</td>\n",
              "      <td>-13.773100</td>\n",
              "      <td>-5.286100</td>\n",
              "      <td>-8.548200</td>\n",
              "      <td>0.000000</td>\n",
              "    </tr>\n",
              "    <tr>\n",
              "      <th>25%</th>\n",
              "      <td>-1.774700</td>\n",
              "      <td>-1.711300</td>\n",
              "      <td>-1.553350</td>\n",
              "      <td>-2.417000</td>\n",
              "      <td>0.000000</td>\n",
              "    </tr>\n",
              "    <tr>\n",
              "      <th>50%</th>\n",
              "      <td>0.495710</td>\n",
              "      <td>2.313400</td>\n",
              "      <td>0.616630</td>\n",
              "      <td>-0.586650</td>\n",
              "      <td>0.000000</td>\n",
              "    </tr>\n",
              "    <tr>\n",
              "      <th>75%</th>\n",
              "      <td>2.814650</td>\n",
              "      <td>6.813100</td>\n",
              "      <td>3.181600</td>\n",
              "      <td>0.394810</td>\n",
              "      <td>1.000000</td>\n",
              "    </tr>\n",
              "    <tr>\n",
              "      <th>max</th>\n",
              "      <td>6.824800</td>\n",
              "      <td>12.951600</td>\n",
              "      <td>17.927400</td>\n",
              "      <td>2.449500</td>\n",
              "      <td>1.000000</td>\n",
              "    </tr>\n",
              "  </tbody>\n",
              "</table>\n",
              "</div>"
            ],
            "text/plain": [
              "       variance_wti  skewness_wti  curtosis_wti  entropy_image        class\n",
              "count   1371.000000   1371.000000   1371.000000    1371.000000  1371.000000\n",
              "mean       0.431410      1.917434      1.400694      -1.192200     0.444931\n",
              "std        2.842494      5.868359      4.310105       2.101683     0.497139\n",
              "min       -7.042100    -13.773100     -5.286100      -8.548200     0.000000\n",
              "25%       -1.774700     -1.711300     -1.553350      -2.417000     0.000000\n",
              "50%        0.495710      2.313400      0.616630      -0.586650     0.000000\n",
              "75%        2.814650      6.813100      3.181600       0.394810     1.000000\n",
              "max        6.824800     12.951600     17.927400       2.449500     1.000000"
            ]
          },
          "execution_count": 8,
          "metadata": {},
          "output_type": "execute_result"
        }
      ],
      "source": [
        "df.describe()"
      ]
    },
    {
      "cell_type": "markdown",
      "metadata": {
        "id": "mZAv2mEbUd2s"
      },
      "source": [
        "#the observed correlations between the features and label.\n",
        "\n",
        "1. there is strong negetive correlation (-0.79) between the class and variance of Wavelet Transformed image.\n",
        "\n",
        "2. strong negetive correlation (-0.79) between the skewness of Wavelet Transformed image and curtosis of Wavelet Transformed image.\n",
        "\n",
        "3. high negative correlation (-0.53) between entropy of image and skewness of Wavelet Transformed image.\n",
        "\n",
        "###it seems that all the features of the dataset are important for the class prediction whather a banknote is authentic or not. so we will need use all the feature of the dataset."
      ]
    },
    {
      "cell_type": "code",
      "execution_count": null,
      "metadata": {
        "colab": {
          "base_uri": "https://localhost:8080/",
          "height": 287
        },
        "id": "DkXDXLsnObNX",
        "outputId": "06e09d1f-07c1-40f0-d2f0-1dd9a49560a0"
      },
      "outputs": [
        {
          "data": {
            "text/plain": [
              "<matplotlib.axes._subplots.AxesSubplot at 0x7f0d70f88210>"
            ]
          },
          "execution_count": 9,
          "metadata": {},
          "output_type": "execute_result"
        },
        {
          "data": {
            "image/png": "[encoded data removed]",
            "text/plain": [
              "<Figure size 1080x288 with 2 Axes>"
            ]
          },
          "metadata": {
            "needs_background": "light"
          },
          "output_type": "display_data"
        }
      ],
      "source": [
        "plt.figure(figsize = (15,4))\n",
        "sns.heatmap(df.corr()  ,annot = True , cmap=\"cividis\")"
      ]
    },
    {
      "cell_type": "markdown",
      "metadata": {
        "id": "_jiP76N5Q-oN"
      },
      "source": [
        "#the  class label of the dataset is balanced since IR= 761/610 = 1.247\n",
        "this means 55.51% the of class label belongs to class 0 where the other 44.49% belongs to class 1.\n",
        "\n",
        "the below figure shows clearly the balanceness of the dataset.\n"
      ]
    },
    {
      "cell_type": "code",
      "execution_count": null,
      "metadata": {
        "colab": {
          "base_uri": "https://localhost:8080/"
        },
        "id": "owwt6amrP0Zz",
        "outputId": "9f1e7584-3852-46cc-a846-1da667f79afa"
      },
      "outputs": [
        {
          "data": {
            "text/plain": [
              "0    761\n",
              "1    610\n",
              "Name: class, dtype: int64"
            ]
          },
          "execution_count": 10,
          "metadata": {},
          "output_type": "execute_result"
        }
      ],
      "source": [
        "df['class'].value_counts()"
      ]
    },
    {
      "cell_type": "code",
      "execution_count": null,
      "metadata": {
        "colab": {
          "base_uri": "https://localhost:8080/",
          "height": 372
        },
        "id": "qrnK350qP8LV",
        "outputId": "8d6e0aa4-b095-44d0-8304-b672b126fa45"
      },
      "outputs": [
        {
          "data": {
            "text/plain": [
              "Text(0.5, 1.0, 'authentic VS Not authentic')"
            ]
          },
          "execution_count": 11,
          "metadata": {},
          "output_type": "execute_result"
        },
        {
          "data": {
            "image/png": "[encoded data removed]",
            "text/plain": [
              "<Figure size 1080x360 with 1 Axes>"
            ]
          },
          "metadata": {},
          "output_type": "display_data"
        }
      ],
      "source": [
        "sns.set_theme(color_codes=True)\n",
        "sns.set_theme(style=\"darkgrid\")\n",
        "plt.figure(figsize=(15, 5))\n",
        "sns.countplot(x='class',hue='class', data=df,  palette=\"magma\")\n",
        "plt.title ('authentic VS Not authentic')"
      ]
    },
    {
      "cell_type": "code",
      "execution_count": null,
      "metadata": {
        "colab": {
          "base_uri": "https://localhost:8080/",
          "height": 444
        },
        "id": "usT9lSoMQhzp",
        "outputId": "35c64a79-ad4f-4983-e238-12ef8ec81d7f"
      },
      "outputs": [
        {
          "data": {
            "text/plain": [
              "Text(0.5, 1.0, 'Class distribution')"
            ]
          },
          "execution_count": 12,
          "metadata": {},
          "output_type": "execute_result"
        },
        {
          "data": {
            "image/png": "[encoded data removed]",
            "text/plain": [
              "<Figure size 1080x504 with 1 Axes>"
            ]
          },
          "metadata": {},
          "output_type": "display_data"
        }
      ],
      "source": [
        "plt.figure(figsize=(15,7))\n",
        "plt.pie(df['class'].value_counts(), labels=['Authentic', 'Not authentic'] , autopct='%.2f%%' , shadow=True, startangle=90, \n",
        "     colors=['cornflowerblue', 'lightcoral']  )\n",
        "sns.set_theme(color_codes=True)\n",
        "sns.set_theme(style=\"darkgrid\")\n",
        "plt.title(\"Class distribution\")"
      ]
    },
    {
      "cell_type": "code",
      "execution_count": null,
      "metadata": {
        "id": "KYP123w44z1k"
      },
      "outputs": [],
      "source": [
        "X= df.drop([\"class\"], axis=1)\n",
        "y=pd.DataFrame(df[\"class\"])"
      ]
    },
    {
      "cell_type": "code",
      "execution_count": null,
      "metadata": {
        "colab": {
          "base_uri": "https://localhost:8080/",
          "height": 206
        },
        "id": "_htEkJw8qDEq",
        "outputId": "c529db27-5a5d-405c-bf11-5f263739b946"
      },
      "outputs": [
        {
          "data": {
            "text/html": [
              "<div>\n",
              "<style scoped>\n",
              "    .dataframe tbody tr th:only-of-type {\n",
              "        vertical-align: middle;\n",
              "    }\n",
              "\n",
              "    .dataframe tbody tr th {\n",
              "        vertical-align: top;\n",
              "    }\n",
              "\n",
              "    .dataframe thead th {\n",
              "        text-align: right;\n",
              "    }\n",
              "</style>\n",
              "<table border=\"1\" class=\"dataframe\">\n",
              "  <thead>\n",
              "    <tr style=\"text-align: right;\">\n",
              "      <th></th>\n",
              "      <th>variance_wti</th>\n",
              "      <th>skewness_wti</th>\n",
              "      <th>curtosis_wti</th>\n",
              "      <th>entropy_image</th>\n",
              "    </tr>\n",
              "  </thead>\n",
              "  <tbody>\n",
              "    <tr>\n",
              "      <th>0</th>\n",
              "      <td>4.54590</td>\n",
              "      <td>8.1674</td>\n",
              "      <td>-2.4586</td>\n",
              "      <td>-1.46210</td>\n",
              "    </tr>\n",
              "    <tr>\n",
              "      <th>1</th>\n",
              "      <td>3.86600</td>\n",
              "      <td>-2.6383</td>\n",
              "      <td>1.9242</td>\n",
              "      <td>0.10645</td>\n",
              "    </tr>\n",
              "    <tr>\n",
              "      <th>2</th>\n",
              "      <td>3.45660</td>\n",
              "      <td>9.5228</td>\n",
              "      <td>-4.0112</td>\n",
              "      <td>-3.59440</td>\n",
              "    </tr>\n",
              "    <tr>\n",
              "      <th>3</th>\n",
              "      <td>0.32924</td>\n",
              "      <td>-4.4552</td>\n",
              "      <td>4.5718</td>\n",
              "      <td>-0.98880</td>\n",
              "    </tr>\n",
              "    <tr>\n",
              "      <th>4</th>\n",
              "      <td>4.36840</td>\n",
              "      <td>9.6718</td>\n",
              "      <td>-3.9606</td>\n",
              "      <td>-3.16250</td>\n",
              "    </tr>\n",
              "  </tbody>\n",
              "</table>\n",
              "</div>"
            ],
            "text/plain": [
              "   variance_wti  skewness_wti  curtosis_wti  entropy_image\n",
              "0       4.54590        8.1674       -2.4586       -1.46210\n",
              "1       3.86600       -2.6383        1.9242        0.10645\n",
              "2       3.45660        9.5228       -4.0112       -3.59440\n",
              "3       0.32924       -4.4552        4.5718       -0.98880\n",
              "4       4.36840        9.6718       -3.9606       -3.16250"
            ]
          },
          "execution_count": 15,
          "metadata": {},
          "output_type": "execute_result"
        }
      ],
      "source": [
        "X.head()"
      ]
    },
    {
      "cell_type": "code",
      "execution_count": null,
      "metadata": {
        "colab": {
          "base_uri": "https://localhost:8080/",
          "height": 206
        },
        "id": "Y4NfpGTZqDQh",
        "outputId": "5165761a-d4cb-48c2-9308-fbd5034835a2"
      },
      "outputs": [
        {
          "data": {
            "text/html": [
              "<div>\n",
              "<style scoped>\n",
              "    .dataframe tbody tr th:only-of-type {\n",
              "        vertical-align: middle;\n",
              "    }\n",
              "\n",
              "    .dataframe tbody tr th {\n",
              "        vertical-align: top;\n",
              "    }\n",
              "\n",
              "    .dataframe thead th {\n",
              "        text-align: right;\n",
              "    }\n",
              "</style>\n",
              "<table border=\"1\" class=\"dataframe\">\n",
              "  <thead>\n",
              "    <tr style=\"text-align: right;\">\n",
              "      <th></th>\n",
              "      <th>class</th>\n",
              "    </tr>\n",
              "  </thead>\n",
              "  <tbody>\n",
              "    <tr>\n",
              "      <th>0</th>\n",
              "      <td>0</td>\n",
              "    </tr>\n",
              "    <tr>\n",
              "      <th>1</th>\n",
              "      <td>0</td>\n",
              "    </tr>\n",
              "    <tr>\n",
              "      <th>2</th>\n",
              "      <td>0</td>\n",
              "    </tr>\n",
              "    <tr>\n",
              "      <th>3</th>\n",
              "      <td>0</td>\n",
              "    </tr>\n",
              "    <tr>\n",
              "      <th>4</th>\n",
              "      <td>0</td>\n",
              "    </tr>\n",
              "  </tbody>\n",
              "</table>\n",
              "</div>"
            ],
            "text/plain": [
              "   class\n",
              "0      0\n",
              "1      0\n",
              "2      0\n",
              "3      0\n",
              "4      0"
            ]
          },
          "execution_count": 18,
          "metadata": {},
          "output_type": "execute_result"
        }
      ],
      "source": [
        "y.head()"
      ]
    },
    {
      "cell_type": "markdown",
      "source": [
        "# Train_test_split\n",
        "\n",
        "\n"
      ],
      "metadata": {
        "id": "U0PscRp6sLvi"
      }
    },
    {
      "cell_type": "code",
      "execution_count": null,
      "metadata": {
        "colab": {
          "base_uri": "https://localhost:8080/"
        },
        "id": "aEFlN1drpZyx",
        "outputId": "853c5eca-126a-4fcc-d534-0f89e8fa9276"
      },
      "outputs": [
        {
          "name": "stdout",
          "output_type": "stream",
          "text": [
            "Train set: (1096, 4) (1096, 1)\n",
            "Test set: (275, 4) (275, 1)\n"
          ]
        }
      ],
      "source": [
        "from sklearn.model_selection import train_test_split\n",
        "X_train, X_test, y_train, y_test = train_test_split( X, y, test_size=0.20, random_state=42)\n",
        "print ('Train set:', X_train.shape,  y_train.shape)\n",
        "print ('Test set:', X_test.shape,  y_test.shape)"
      ]
    },
    {
      "cell_type": "markdown",
      "source": [
        "# Model developing "
      ],
      "metadata": {
        "id": "cEAKJNhUsXr9"
      }
    },
    {
      "cell_type": "code",
      "execution_count": null,
      "metadata": {
        "id": "gPwj9Hf5pZ4g"
      },
      "outputs": [],
      "source": [
        "dtree=DecisionTreeClassifier(random_state=0,criterion='entropy').fit(X_train,y_train)"
      ]
    },
    {
      "cell_type": "code",
      "execution_count": null,
      "metadata": {
        "id": "bJ6JwXIkpaAe"
      },
      "outputs": [],
      "source": [
        "predict=dtree.predict(X_test) "
      ]
    },
    {
      "cell_type": "code",
      "execution_count": null,
      "metadata": {
        "colab": {
          "base_uri": "https://localhost:8080/"
        },
        "id": "mtBB7L_NrLMp",
        "outputId": "73f38935-8d50-408b-cae1-2ea561a4397d"
      },
      "outputs": [
        {
          "name": "stdout",
          "output_type": "stream",
          "text": [
            "              precision    recall  f1-score   support\n",
            "\n",
            "           0       0.98      0.99      0.99       148\n",
            "           1       0.99      0.98      0.98       127\n",
            "\n",
            "    accuracy                           0.99       275\n",
            "   macro avg       0.99      0.98      0.99       275\n",
            "weighted avg       0.99      0.99      0.99       275\n",
            "\n"
          ]
        }
      ],
      "source": [
        "print(classification_report(y_test,predict))"
      ]
    },
    {
      "cell_type": "code",
      "execution_count": null,
      "metadata": {
        "id": "Wen23au7rmgm"
      },
      "outputs": [],
      "source": [
        "! pip install -q scikit-plot"
      ]
    },
    {
      "cell_type": "code",
      "execution_count": null,
      "metadata": {
        "colab": {
          "base_uri": "https://localhost:8080/",
          "height": 376
        },
        "id": "xPc5ZiqMrm5N",
        "outputId": "dacd846a-80da-4cb7-f823-eb396fa25628"
      },
      "outputs": [
        {
          "data": {
            "text/plain": [
              "<matplotlib.axes._subplots.AxesSubplot at 0x7f0d65bd4d90>"
            ]
          },
          "execution_count": 64,
          "metadata": {},
          "output_type": "execute_result"
        },
        {
          "data": {
            "image/png": "[encoded data removed]",
            "text/plain": [
              "<Figure size 1080x360 with 2 Axes>"
            ]
          },
          "metadata": {},
          "output_type": "display_data"
        }
      ],
      "source": [
        "import scikitplot as skplt\n",
        "\n",
        "skplt.metrics.plot_confusion_matrix(\n",
        "    y_test, \n",
        "   predict,\n",
        "    figsize=(15,5))"
      ]
    },
    {
      "cell_type": "code",
      "execution_count": null,
      "metadata": {
        "id": "xlT6_zNyv0BJ"
      },
      "outputs": [],
      "source": [
        "d_tree=DecisionTreeClassifier(random_state=0,criterion='entropy' , splitter='best').fit(X_train,y_train)"
      ]
    },
    {
      "cell_type": "code",
      "execution_count": null,
      "metadata": {
        "id": "fdHvUrcJvx4Y"
      },
      "outputs": [],
      "source": [
        "y_predict=dtree.predict(X_test) "
      ]
    },
    {
      "cell_type": "code",
      "execution_count": null,
      "metadata": {
        "colab": {
          "base_uri": "https://localhost:8080/"
        },
        "id": "K6d-nT3svzHG",
        "outputId": "f61c4c12-40aa-488e-db2c-4dd32fe585ad"
      },
      "outputs": [
        {
          "name": "stdout",
          "output_type": "stream",
          "text": [
            "              precision    recall  f1-score   support\n",
            "\n",
            "           0       0.98      0.99      0.99       148\n",
            "           1       0.99      0.98      0.98       127\n",
            "\n",
            "    accuracy                           0.99       275\n",
            "   macro avg       0.99      0.98      0.99       275\n",
            "weighted avg       0.99      0.99      0.99       275\n",
            "\n"
          ]
        }
      ],
      "source": [
        "print(classification_report(y_test,y_predict))"
      ]
    },
    {
      "cell_type": "code",
      "execution_count": null,
      "metadata": {
        "colab": {
          "base_uri": "https://localhost:8080/",
          "height": 376
        },
        "id": "98y9DlVowlDs",
        "outputId": "d523820d-308e-4828-e1ea-6dbba96c0406"
      },
      "outputs": [
        {
          "data": {
            "text/plain": [
              "<matplotlib.axes._subplots.AxesSubplot at 0x7f0d658154d0>"
            ]
          },
          "execution_count": 68,
          "metadata": {},
          "output_type": "execute_result"
        },
        {
          "data": {
            "image/png": "[encoded data removed]",
            "text/plain": [
              "<Figure size 1080x360 with 2 Axes>"
            ]
          },
          "metadata": {},
          "output_type": "display_data"
        }
      ],
      "source": [
        "import scikitplot as skplt\n",
        "\n",
        "skplt.metrics.plot_confusion_matrix(\n",
        "    y_test, \n",
        "   y_predict,\n",
        "    figsize=(15,5))"
      ]
    },
    {
      "cell_type": "code",
      "execution_count": null,
      "metadata": {
        "colab": {
          "base_uri": "https://localhost:8080/",
          "height": 925
        },
        "id": "o8LwY1KT4Au6",
        "outputId": "51efdd30-5280-49c9-b858-4dae8cea735f"
      },
      "outputs": [
        {
          "data": {
            "text/plain": [
              "[Text(194.81896551724137, 201.90857142857143, 'X[0] <= 0.32\\nentropy = 0.99\\nsamples = 1096\\nvalue = [613, 483]'),\n",
              " Text(118.33448275862068, 170.84571428571428, 'X[1] <= 5.865\\nentropy = 0.711\\nsamples = 529\\nvalue = [103, 426]'),\n",
              " Text(63.49655172413793, 139.78285714285715, 'X[2] <= 6.219\\nentropy = 0.316\\nsamples = 420\\nvalue = [24, 396]'),\n",
              " Text(23.089655172413792, 108.72, 'X[1] <= 4.085\\nentropy = 0.033\\nsamples = 291\\nvalue = [1, 290]'),\n",
              " Text(11.544827586206896, 77.65714285714284, 'entropy = 0.0\\nsamples = 281\\nvalue = [0, 281]'),\n",
              " Text(34.63448275862069, 77.65714285714284, 'X[3] <= -2.168\\nentropy = 0.469\\nsamples = 10\\nvalue = [1, 9]'),\n",
              " Text(23.089655172413792, 46.59428571428572, 'entropy = 0.0\\nsamples = 9\\nvalue = [0, 9]'),\n",
              " Text(46.179310344827584, 46.59428571428572, 'entropy = 0.0\\nsamples = 1\\nvalue = [1, 0]'),\n",
              " Text(103.90344827586206, 108.72, 'X[1] <= -4.675\\nentropy = 0.676\\nsamples = 129\\nvalue = [23, 106]'),\n",
              " Text(80.81379310344828, 77.65714285714284, 'X[0] <= -0.357\\nentropy = 0.077\\nsamples = 106\\nvalue = [1, 105]'),\n",
              " Text(69.26896551724138, 46.59428571428572, 'entropy = 0.0\\nsamples = 105\\nvalue = [0, 105]'),\n",
              " Text(92.35862068965517, 46.59428571428572, 'entropy = 0.0\\nsamples = 1\\nvalue = [1, 0]'),\n",
              " Text(126.99310344827586, 77.65714285714284, 'X[2] <= 6.615\\nentropy = 0.258\\nsamples = 23\\nvalue = [22, 1]'),\n",
              " Text(115.44827586206895, 46.59428571428572, 'X[1] <= -2.233\\nentropy = 1.0\\nsamples = 2\\nvalue = [1, 1]'),\n",
              " Text(103.90344827586206, 15.531428571428563, 'entropy = 0.0\\nsamples = 1\\nvalue = [0, 1]'),\n",
              " Text(126.99310344827586, 15.531428571428563, 'entropy = 0.0\\nsamples = 1\\nvalue = [1, 0]'),\n",
              " Text(138.53793103448277, 46.59428571428572, 'entropy = 0.0\\nsamples = 21\\nvalue = [21, 0]'),\n",
              " Text(173.17241379310343, 139.78285714285715, 'X[0] <= -3.445\\nentropy = 0.849\\nsamples = 109\\nvalue = [79, 30]'),\n",
              " Text(161.62758620689655, 108.72, 'X[3] <= -1.916\\nentropy = 0.206\\nsamples = 31\\nvalue = [1, 30]'),\n",
              " Text(150.08275862068965, 77.65714285714284, 'entropy = 0.0\\nsamples = 30\\nvalue = [0, 30]'),\n",
              " Text(173.17241379310343, 77.65714285714284, 'entropy = 0.0\\nsamples = 1\\nvalue = [1, 0]'),\n",
              " Text(184.71724137931034, 108.72, 'entropy = 0.0\\nsamples = 78\\nvalue = [78, 0]'),\n",
              " Text(271.3034482758621, 170.84571428571428, 'X[0] <= 1.791\\nentropy = 0.471\\nsamples = 567\\nvalue = [510, 57]'),\n",
              " Text(230.8965517241379, 139.78285714285715, 'X[2] <= -2.272\\nentropy = 0.876\\nsamples = 179\\nvalue = [126, 53]'),\n",
              " Text(207.80689655172412, 108.72, 'X[1] <= 6.42\\nentropy = 0.267\\nsamples = 44\\nvalue = [2, 42]'),\n",
              " Text(196.26206896551724, 77.65714285714284, 'entropy = 0.0\\nsamples = 42\\nvalue = [0, 42]'),\n",
              " Text(219.35172413793103, 77.65714285714284, 'entropy = 0.0\\nsamples = 2\\nvalue = [2, 0]'),\n",
              " Text(253.98620689655172, 108.72, 'X[2] <= 0.206\\nentropy = 0.407\\nsamples = 135\\nvalue = [124, 11]'),\n",
              " Text(242.44137931034481, 77.65714285714284, 'X[1] <= 3.522\\nentropy = 0.802\\nsamples = 45\\nvalue = [34, 11]'),\n",
              " Text(230.8965517241379, 46.59428571428572, 'entropy = 0.0\\nsamples = 11\\nvalue = [0, 11]'),\n",
              " Text(253.98620689655172, 46.59428571428572, 'entropy = 0.0\\nsamples = 34\\nvalue = [34, 0]'),\n",
              " Text(265.5310344827586, 77.65714285714284, 'entropy = 0.0\\nsamples = 90\\nvalue = [90, 0]'),\n",
              " Text(311.7103448275862, 139.78285714285715, 'X[0] <= 2.392\\nentropy = 0.083\\nsamples = 388\\nvalue = [384, 4]'),\n",
              " Text(300.1655172413793, 108.72, 'X[2] <= -2.648\\nentropy = 0.341\\nsamples = 63\\nvalue = [59, 4]'),\n",
              " Text(288.6206896551724, 77.65714285714284, 'X[1] <= 6.798\\nentropy = 1.0\\nsamples = 8\\nvalue = [4, 4]'),\n",
              " Text(277.07586206896553, 46.59428571428572, 'entropy = 0.0\\nsamples = 4\\nvalue = [0, 4]'),\n",
              " Text(300.1655172413793, 46.59428571428572, 'entropy = 0.0\\nsamples = 4\\nvalue = [4, 0]'),\n",
              " Text(311.7103448275862, 77.65714285714284, 'entropy = 0.0\\nsamples = 55\\nvalue = [55, 0]'),\n",
              " Text(323.2551724137931, 108.72, 'entropy = 0.0\\nsamples = 325\\nvalue = [325, 0]')]"
            ]
          },
          "execution_count": 72,
          "metadata": {},
          "output_type": "execute_result"
        },
        {
          "data": {
            "image/png": "[encoded data removed]",
            "text/plain": [
              "<Figure size 432x288 with 1 Axes>"
            ]
          },
          "metadata": {},
          "output_type": "display_data"
        }
      ],
      "source": [
        "from sklearn import tree\n",
        "tree.plot_tree(dtree)"
      ]
    }
  ],
  "metadata": {
    "colab": {
      "provenance": [],
      "include_colab_link": true
    },
    "kernelspec": {
      "display_name": "Python 3",
      "language": "python",
      "name": "python3"
    },
    "language_info": {
      "codemirror_mode": {
        "name": "ipython",
        "version": 3
      },
      "file_extension": ".py",
      "mimetype": "text/x-python",
      "name": "python",
      "nbconvert_exporter": "python",
      "pygments_lexer": "ipython3",
      "version": "3.8.5"
    }
  },
  "nbformat": 4,
  "nbformat_minor": 0
}